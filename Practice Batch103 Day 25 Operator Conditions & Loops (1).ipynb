{
 "cells": [
  {
   "cell_type": "markdown",
   "id": "fbfe942a",
   "metadata": {},
   "source": [
    "a = 50\n",
    "b = 20\n",
    "c = a + b\n",
    "print(c)"
   ]
  },
  {
   "cell_type": "code",
   "execution_count": 1,
   "id": "007cd2e8",
   "metadata": {},
   "outputs": [
    {
     "name": "stdout",
     "output_type": "stream",
     "text": [
      "70\n"
     ]
    }
   ],
   "source": [
    "a = 50                # Arithmatic Operators\n",
    "b = 20 \n",
    "c = a + b \n",
    "print(c)"
   ]
  },
  {
   "cell_type": "code",
   "execution_count": 2,
   "id": "e039820d",
   "metadata": {},
   "outputs": [
    {
     "name": "stdout",
     "output_type": "stream",
     "text": [
      "30\n"
     ]
    }
   ],
   "source": [
    "a = 50 \n",
    "b = 20 \n",
    "c = a - b \n",
    "print(c)"
   ]
  },
  {
   "cell_type": "code",
   "execution_count": 3,
   "id": "b7495afb",
   "metadata": {},
   "outputs": [
    {
     "name": "stdout",
     "output_type": "stream",
     "text": [
      "1000\n"
     ]
    }
   ],
   "source": [
    "a = 50 \n",
    "b = 20 \n",
    "c = a * b \n",
    "print(c)"
   ]
  },
  {
   "cell_type": "code",
   "execution_count": 4,
   "id": "13022d92",
   "metadata": {},
   "outputs": [
    {
     "name": "stdout",
     "output_type": "stream",
     "text": [
      "2.5\n"
     ]
    }
   ],
   "source": [
    "a = 50 \n",
    "b = 20 \n",
    "c = a / b \n",
    "print(c)"
   ]
  },
  {
   "cell_type": "code",
   "execution_count": 5,
   "id": "f0ffacaa",
   "metadata": {},
   "outputs": [
    {
     "name": "stdout",
     "output_type": "stream",
     "text": [
      "10\n"
     ]
    }
   ],
   "source": [
    "a = 50 \n",
    "b = 20 \n",
    "c = a % b \n",
    "print(c)"
   ]
  },
  {
   "cell_type": "code",
   "execution_count": 6,
   "id": "10cb56b0",
   "metadata": {},
   "outputs": [
    {
     "name": "stdout",
     "output_type": "stream",
     "text": [
      "2\n"
     ]
    }
   ],
   "source": [
    "a = 50 \n",
    "b = 20 \n",
    "c = a // b \n",
    "print(c)"
   ]
  },
  {
   "cell_type": "code",
   "execution_count": 10,
   "id": "18dc8dad",
   "metadata": {},
   "outputs": [
    {
     "name": "stdout",
     "output_type": "stream",
     "text": [
      "1024\n"
     ]
    }
   ],
   "source": [
    "a = 2\n",
    "b = 10 \n",
    "c = a ** b \n",
    "print(c)"
   ]
  },
  {
   "cell_type": "code",
   "execution_count": 11,
   "id": "ee32573a",
   "metadata": {},
   "outputs": [
    {
     "name": "stdout",
     "output_type": "stream",
     "text": [
      "70\n"
     ]
    }
   ],
   "source": [
    "a = 50 \n",
    "b = 20 \n",
    "c = a + b \n",
    "print(c)"
   ]
  },
  {
   "cell_type": "code",
   "execution_count": 14,
   "id": "9c192e07",
   "metadata": {},
   "outputs": [
    {
     "name": "stdout",
     "output_type": "stream",
     "text": [
      "70\n"
     ]
    }
   ],
   "source": [
    "a = 50                  # Asssignment Operators\n",
    "b = 20 \n",
    "a+= b \n",
    "print(a)"
   ]
  },
  {
   "cell_type": "code",
   "execution_count": 15,
   "id": "d6c8a030",
   "metadata": {},
   "outputs": [
    {
     "name": "stdout",
     "output_type": "stream",
     "text": [
      "30\n"
     ]
    }
   ],
   "source": [
    "a = 50 \n",
    "b = 20 \n",
    "a-= b \n",
    "print(a)"
   ]
  },
  {
   "cell_type": "code",
   "execution_count": 16,
   "id": "085bf87c",
   "metadata": {},
   "outputs": [
    {
     "name": "stdout",
     "output_type": "stream",
     "text": [
      "1000\n"
     ]
    }
   ],
   "source": [
    "a = 50 \n",
    "b = 20 \n",
    "a*= b \n",
    "print(a)"
   ]
  },
  {
   "cell_type": "code",
   "execution_count": 17,
   "id": "c4a3f16b",
   "metadata": {},
   "outputs": [
    {
     "name": "stdout",
     "output_type": "stream",
     "text": [
      "2.5\n"
     ]
    }
   ],
   "source": [
    "a = 50 \n",
    "b = 20 \n",
    "a/= b \n",
    "print(a)"
   ]
  },
  {
   "cell_type": "code",
   "execution_count": 19,
   "id": "9554548d",
   "metadata": {},
   "outputs": [
    {
     "name": "stdout",
     "output_type": "stream",
     "text": [
      "20\n"
     ]
    }
   ],
   "source": [
    "a = 50 \n",
    "b = 30 \n",
    "a%= b \n",
    "print(a)"
   ]
  },
  {
   "cell_type": "code",
   "execution_count": 20,
   "id": "8b04f5cb",
   "metadata": {},
   "outputs": [
    {
     "name": "stdout",
     "output_type": "stream",
     "text": [
      "1\n"
     ]
    }
   ],
   "source": [
    "a = 50 \n",
    "b = 30 \n",
    "a//= b \n",
    "print(a)"
   ]
  },
  {
   "cell_type": "code",
   "execution_count": 21,
   "id": "722cece4",
   "metadata": {},
   "outputs": [
    {
     "name": "stdout",
     "output_type": "stream",
     "text": [
      "1024\n"
     ]
    }
   ],
   "source": [
    "a = 2 \n",
    "b = 10\n",
    "a**= b \n",
    "print(a)"
   ]
  },
  {
   "cell_type": "code",
   "execution_count": 22,
   "id": "781015e7",
   "metadata": {},
   "outputs": [
    {
     "name": "stdout",
     "output_type": "stream",
     "text": [
      "False\n"
     ]
    }
   ],
   "source": [
    "a = 500                   # Comparison  Operators\n",
    "b = 300\n",
    "print ( a==b)"
   ]
  },
  {
   "cell_type": "code",
   "execution_count": 23,
   "id": "20247558",
   "metadata": {},
   "outputs": [
    {
     "name": "stdout",
     "output_type": "stream",
     "text": [
      "True\n"
     ]
    }
   ],
   "source": [
    "a = 500\n",
    "b = 300\n",
    "print ( a!=b)"
   ]
  },
  {
   "cell_type": "code",
   "execution_count": 24,
   "id": "4f8b431a",
   "metadata": {},
   "outputs": [
    {
     "name": "stdout",
     "output_type": "stream",
     "text": [
      "True\n"
     ]
    }
   ],
   "source": [
    "a = 500\n",
    "b = 300\n",
    "print ( a>b)"
   ]
  },
  {
   "cell_type": "code",
   "execution_count": 25,
   "id": "7a72f682",
   "metadata": {},
   "outputs": [
    {
     "name": "stdout",
     "output_type": "stream",
     "text": [
      "False\n"
     ]
    }
   ],
   "source": [
    "a = 500\n",
    "b = 300\n",
    "print ( a<b)"
   ]
  },
  {
   "cell_type": "code",
   "execution_count": 26,
   "id": "96fbf159",
   "metadata": {},
   "outputs": [
    {
     "name": "stdout",
     "output_type": "stream",
     "text": [
      "True\n"
     ]
    }
   ],
   "source": [
    "a = 500\n",
    "b = 300\n",
    "print ( a>=b)"
   ]
  },
  {
   "cell_type": "code",
   "execution_count": 27,
   "id": "1cfcdd95",
   "metadata": {},
   "outputs": [
    {
     "name": "stdout",
     "output_type": "stream",
     "text": [
      "False\n"
     ]
    }
   ],
   "source": [
    "a = 500\n",
    "b = 300\n",
    "print ( a<=b)"
   ]
  },
  {
   "cell_type": "code",
   "execution_count": 28,
   "id": "5380924a",
   "metadata": {},
   "outputs": [],
   "source": [
    "a = 500                     # Logical Operators\n",
    "b = 300\n",
    "c = 200"
   ]
  },
  {
   "cell_type": "code",
   "execution_count": 29,
   "id": "2a0ccf76",
   "metadata": {},
   "outputs": [
    {
     "name": "stdout",
     "output_type": "stream",
     "text": [
      "True\n",
      "False\n"
     ]
    }
   ],
   "source": [
    "print(a>b)\n",
    "print(b<c)"
   ]
  },
  {
   "cell_type": "code",
   "execution_count": 30,
   "id": "006d8bb1",
   "metadata": {},
   "outputs": [
    {
     "name": "stdout",
     "output_type": "stream",
     "text": [
      "False\n"
     ]
    }
   ],
   "source": [
    "print((a>b)and(b<c))"
   ]
  },
  {
   "cell_type": "code",
   "execution_count": 31,
   "id": "997b253e",
   "metadata": {},
   "outputs": [
    {
     "name": "stdout",
     "output_type": "stream",
     "text": [
      "True\n"
     ]
    }
   ],
   "source": [
    "print (( a>b)or (b<c))"
   ]
  },
  {
   "cell_type": "code",
   "execution_count": 32,
   "id": "2d342e11",
   "metadata": {},
   "outputs": [
    {
     "name": "stdout",
     "output_type": "stream",
     "text": [
      "False\n",
      "True\n"
     ]
    }
   ],
   "source": [
    "print (( a>b)and (b<c))\n",
    "print (not(( a>b)and (b<c)))"
   ]
  },
  {
   "cell_type": "code",
   "execution_count": 33,
   "id": "deca7494",
   "metadata": {},
   "outputs": [
    {
     "name": "stdout",
     "output_type": "stream",
     "text": [
      "500 500 500\n"
     ]
    }
   ],
   "source": [
    "a =500\n",
    "c= 500\n",
    "b = a\n",
    "print (a,b,c)"
   ]
  },
  {
   "cell_type": "code",
   "execution_count": 34,
   "id": "e1e913a1",
   "metadata": {},
   "outputs": [
    {
     "name": "stdout",
     "output_type": "stream",
     "text": [
      "True\n",
      "False\n"
     ]
    }
   ],
   "source": [
    "print ( a is b)\n",
    "print (a is c)"
   ]
  },
  {
   "cell_type": "code",
   "execution_count": 35,
   "id": "401d3490",
   "metadata": {},
   "outputs": [
    {
     "name": "stdout",
     "output_type": "stream",
     "text": [
      "2651841935376\n",
      "2651841935376\n",
      "2651841934832\n"
     ]
    }
   ],
   "source": [
    "print ( id (a))   # find id\n",
    "print ( id (b))\n",
    "print ( id (c))"
   ]
  },
  {
   "cell_type": "code",
   "execution_count": 1,
   "id": "d1a0b8ab",
   "metadata": {},
   "outputs": [
    {
     "name": "stdout",
     "output_type": "stream",
     "text": [
      "2373840363136\n",
      "2373840363136\n",
      "2373840362496\n"
     ]
    }
   ],
   "source": [
    "x = [\"apple\", \"banana\"]\n",
    "z= [\"apple\", \"banana\"]\n",
    "y = x\n",
    "print ( id (x))\n",
    "print ( id (y))\n",
    "print ( id (z))"
   ]
  },
  {
   "cell_type": "code",
   "execution_count": 2,
   "id": "f5c31a68",
   "metadata": {},
   "outputs": [
    {
     "name": "stdout",
     "output_type": "stream",
     "text": [
      "False\n"
     ]
    }
   ],
   "source": [
    "print(x is z)  # identity operator"
   ]
  },
  {
   "cell_type": "code",
   "execution_count": 3,
   "id": "9db687c0",
   "metadata": {},
   "outputs": [
    {
     "name": "stdout",
     "output_type": "stream",
     "text": [
      "True\n"
     ]
    }
   ],
   "source": [
    "print (x is y)"
   ]
  },
  {
   "cell_type": "code",
   "execution_count": 4,
   "id": "df56ce48",
   "metadata": {},
   "outputs": [
    {
     "name": "stdout",
     "output_type": "stream",
     "text": [
      "True\n"
     ]
    }
   ],
   "source": [
    "print(x==y)"
   ]
  },
  {
   "cell_type": "code",
   "execution_count": 5,
   "id": "64429800",
   "metadata": {},
   "outputs": [
    {
     "name": "stdout",
     "output_type": "stream",
     "text": [
      "['apple', 'banana'] ['apple', 'banana'] ['apple', 'banana']\n"
     ]
    }
   ],
   "source": [
    "print (x,y,z)"
   ]
  },
  {
   "cell_type": "code",
   "execution_count": 11,
   "id": "263a914f",
   "metadata": {},
   "outputs": [
    {
     "data": {
      "text/plain": [
       "['apple', 'banana', 'Orange', 'orange']"
      ]
     },
     "execution_count": 11,
     "metadata": {},
     "output_type": "execute_result"
    }
   ],
   "source": [
    "x.append('orange')  # append\n",
    "x"
   ]
  },
  {
   "cell_type": "code",
   "execution_count": 12,
   "id": "8ce515ae",
   "metadata": {},
   "outputs": [
    {
     "data": {
      "text/plain": [
       "['apple', 'banana', 'Orange', 'orange', 'orange']"
      ]
     },
     "execution_count": 12,
     "metadata": {},
     "output_type": "execute_result"
    }
   ],
   "source": [
    "x.append('orange')\n",
    "x"
   ]
  },
  {
   "cell_type": "code",
   "execution_count": 13,
   "id": "a110450c",
   "metadata": {},
   "outputs": [
    {
     "name": "stdout",
     "output_type": "stream",
     "text": [
      "['apple', 'banana', 'Orange', 'orange', 'orange'] ['apple', 'banana', 'Orange', 'orange', 'orange'] ['apple', 'banana']\n"
     ]
    }
   ],
   "source": [
    "print(x,y,z)"
   ]
  },
  {
   "cell_type": "code",
   "execution_count": 14,
   "id": "7a617a72",
   "metadata": {},
   "outputs": [
    {
     "name": "stdout",
     "output_type": "stream",
     "text": [
      "True\n"
     ]
    }
   ],
   "source": [
    "l1=[10,20,30,20,40]\n",
    "print(20 in l1)              # membership operator"
   ]
  },
  {
   "cell_type": "code",
   "execution_count": 15,
   "id": "d100e3e7",
   "metadata": {},
   "outputs": [
    {
     "name": "stdout",
     "output_type": "stream",
     "text": [
      "False\n"
     ]
    }
   ],
   "source": [
    "l1=[10,20,30,20,40]\n",
    "print(25 in l1)"
   ]
  },
  {
   "cell_type": "code",
   "execution_count": 16,
   "id": "0a313859",
   "metadata": {},
   "outputs": [
    {
     "name": "stdout",
     "output_type": "stream",
     "text": [
      "False\n"
     ]
    }
   ],
   "source": [
    "l1=[10,20,30,20,40]\n",
    "print(20 not in l1)"
   ]
  },
  {
   "cell_type": "code",
   "execution_count": 17,
   "id": "9a83c3d2",
   "metadata": {},
   "outputs": [
    {
     "name": "stdout",
     "output_type": "stream",
     "text": [
      "True\n"
     ]
    }
   ],
   "source": [
    "l1=[10,20,30,20,40]\n",
    "print(25 not in l1)"
   ]
  },
  {
   "cell_type": "code",
   "execution_count": 18,
   "id": "d6384d6f",
   "metadata": {},
   "outputs": [
    {
     "name": "stdout",
     "output_type": "stream",
     "text": [
      "True\n"
     ]
    }
   ],
   "source": [
    "s ='Sunday'\n",
    "print ('d' in s)"
   ]
  },
  {
   "cell_type": "code",
   "execution_count": 19,
   "id": "1bf196a7",
   "metadata": {},
   "outputs": [
    {
     "name": "stdout",
     "output_type": "stream",
     "text": [
      "False\n"
     ]
    }
   ],
   "source": [
    "s ='Sunday'\n",
    "print ('m' in s)"
   ]
  },
  {
   "cell_type": "code",
   "execution_count": 20,
   "id": "12dc2157",
   "metadata": {},
   "outputs": [
    {
     "name": "stdout",
     "output_type": "stream",
     "text": [
      "False\n"
     ]
    }
   ],
   "source": [
    "s ='Sunday'\n",
    "print ('d' not in s)"
   ]
  },
  {
   "cell_type": "code",
   "execution_count": 21,
   "id": "f7b7b789",
   "metadata": {},
   "outputs": [
    {
     "name": "stdout",
     "output_type": "stream",
     "text": [
      "True\n"
     ]
    }
   ],
   "source": [
    "s ='Sunday'\n",
    "print ('m' not  in s)"
   ]
  },
  {
   "cell_type": "code",
   "execution_count": 22,
   "id": "c8123bf8",
   "metadata": {},
   "outputs": [
    {
     "name": "stdout",
     "output_type": "stream",
     "text": [
      "A greater than B\n"
     ]
    }
   ],
   "source": [
    "a =500                   #Conditional Satements if,if-else,if-elif-else,nested if-else\n",
    "b = 200\n",
    "if a>b:               \n",
    "    print ( 'A greater than B')"
   ]
  },
  {
   "cell_type": "code",
   "execution_count": 23,
   "id": "faff0f25",
   "metadata": {},
   "outputs": [],
   "source": [
    "a =500                   #Conditional Satements if,if-else,if-elif-else,nested if-else\n",
    "b = 200\n",
    "if a<b:               \n",
    "    print ( 'A greater than B')"
   ]
  },
  {
   "cell_type": "code",
   "execution_count": 26,
   "id": "887ef39a",
   "metadata": {},
   "outputs": [
    {
     "name": "stdout",
     "output_type": "stream",
     "text": [
      "A is greater than B\n"
     ]
    }
   ],
   "source": [
    "a =500                   #Conditional Satements if,if-else,if-elif-else,nested if-else\n",
    "b = 200\n",
    "if a<b:               \n",
    "    print ( 'A less than B')\n",
    "else :\n",
    "    print ('A is greater than B')"
   ]
  },
  {
   "cell_type": "code",
   "execution_count": 27,
   "id": "d2089046",
   "metadata": {},
   "outputs": [
    {
     "name": "stdout",
     "output_type": "stream",
     "text": [
      "True\n",
      "The given Numer is Even =  10\n"
     ]
    }
   ],
   "source": [
    "x = 10 # Input is Even If Executes and get the result\n",
    "\n",
    "if x % 2 == 0:  \n",
    "    print('True')\n",
    "    print('The given Numer is Even = ', x)   "
   ]
  },
  {
   "cell_type": "code",
   "execution_count": 30,
   "id": "724b6062",
   "metadata": {},
   "outputs": [
    {
     "name": "stdout",
     "output_type": "stream",
     "text": [
      "The given Numer is Odd =  11\n"
     ]
    }
   ],
   "source": [
    "x = 11 # Input is Even If Executes and get the result\n",
    "\n",
    "if x % 2 == 0:  \n",
    "    print('True')\n",
    "    print('The given Numer is Even = ', x) \n",
    "else :\n",
    "    print('The given Numer is Odd = ', x) \n",
    "    "
   ]
  },
  {
   "cell_type": "code",
   "execution_count": null,
   "id": "9c1a37d1",
   "metadata": {},
   "outputs": [],
   "source": []
  },
  {
   "cell_type": "code",
   "execution_count": 32,
   "id": "7a346475",
   "metadata": {},
   "outputs": [
    {
     "data": {
      "text/plain": [
       "True"
      ]
     },
     "execution_count": 32,
     "metadata": {},
     "output_type": "execute_result"
    }
   ],
   "source": [
    "x=10\n",
    "x % 2 ==0"
   ]
  },
  {
   "cell_type": "code",
   "execution_count": 34,
   "id": "618936e2",
   "metadata": {},
   "outputs": [
    {
     "data": {
      "text/plain": [
       "5"
      ]
     },
     "execution_count": 34,
     "metadata": {},
     "output_type": "execute_result"
    }
   ],
   "source": [
    "x // 2"
   ]
  },
  {
   "cell_type": "code",
   "execution_count": 36,
   "id": "a109bae1",
   "metadata": {},
   "outputs": [
    {
     "name": "stdout",
     "output_type": "stream",
     "text": [
      "false\n",
      " The given number is Odd 11\n"
     ]
    }
   ],
   "source": [
    "x=11\n",
    "if x % 2 == 0 :\n",
    "    print('True')\n",
    "    print ('The number is Even=',x)\n",
    "else:\n",
    "    print('false')\n",
    "    print(' The given number is Odd',x)\n",
    "        "
   ]
  },
  {
   "cell_type": "code",
   "execution_count": 37,
   "id": "c7101a0c",
   "metadata": {},
   "outputs": [
    {
     "name": "stdout",
     "output_type": "stream",
     "text": [
      "True\n",
      "The number is Even= 10\n"
     ]
    }
   ],
   "source": [
    "x=10\n",
    "if x % 2 == 0 :\n",
    "    print('True')\n",
    "    print ('The number is Even=',x)\n",
    "else:\n",
    "    print('false')\n",
    "    print(' The given number is Odd',x)\n",
    "        "
   ]
  },
  {
   "cell_type": "code",
   "execution_count": 40,
   "id": "ca563480",
   "metadata": {},
   "outputs": [
    {
     "name": "stdout",
     "output_type": "stream",
     "text": [
      "D\n"
     ]
    }
   ],
   "source": [
    "mark=30\n",
    "if mark>90 :\n",
    "    print('A')\n",
    "elif mark >70 :\n",
    "    print('B')\n",
    "elif mark > 50 :\n",
    "    print('C')\n",
    "else :\n",
    "    print ('D')"
   ]
  },
  {
   "cell_type": "code",
   "execution_count": 41,
   "id": "b5a0fec9",
   "metadata": {},
   "outputs": [
    {
     "name": "stdout",
     "output_type": "stream",
     "text": [
      "C\n"
     ]
    }
   ],
   "source": [
    "mark=60\n",
    "if mark>90 :\n",
    "    print('A')\n",
    "elif mark >70 :\n",
    "    print('B')\n",
    "elif mark > 50 :\n",
    "    print('C')\n",
    "else :\n",
    "    print ('D')"
   ]
  },
  {
   "cell_type": "code",
   "execution_count": 42,
   "id": "ce52d5d7",
   "metadata": {},
   "outputs": [
    {
     "name": "stdout",
     "output_type": "stream",
     "text": [
      "B\n"
     ]
    }
   ],
   "source": [
    "mark=90\n",
    "if mark>90 :\n",
    "    print('A')\n",
    "elif mark >70 :\n",
    "    print('B')\n",
    "elif mark > 50 :\n",
    "    print('C')\n",
    "else :\n",
    "    print ('D')"
   ]
  },
  {
   "cell_type": "code",
   "execution_count": 43,
   "id": "32ee8802",
   "metadata": {},
   "outputs": [
    {
     "name": "stdout",
     "output_type": "stream",
     "text": [
      "a and b are equal\n"
     ]
    }
   ],
   "source": [
    "a=100\n",
    "b=100\n",
    "if (a>b):\n",
    "    print('a is greater than b')\n",
    "elif (a<b):  \n",
    "    print('a is less than b')\n",
    "else:\n",
    "    print('a and b are equal')"
   ]
  },
  {
   "cell_type": "code",
   "execution_count": 44,
   "id": "c6e3ccbf",
   "metadata": {},
   "outputs": [
    {
     "name": "stdout",
     "output_type": "stream",
     "text": [
      "a is less than b\n"
     ]
    }
   ],
   "source": [
    "a=100\n",
    "b=200\n",
    "if (a>b):\n",
    "    print('a is greater than b')\n",
    "elif (a<b):  \n",
    "    print('a is less than b')\n",
    "else:\n",
    "    print('a and b are equal')"
   ]
  },
  {
   "cell_type": "code",
   "execution_count": 45,
   "id": "19aca233",
   "metadata": {},
   "outputs": [
    {
     "name": "stdout",
     "output_type": "stream",
     "text": [
      "a is greater than b\n"
     ]
    }
   ],
   "source": [
    "a=200\n",
    "b=100\n",
    "if (a>b):\n",
    "    print('a is greater than b')\n",
    "elif (a<b):  \n",
    "    print('a is less than b')\n",
    "else:\n",
    "    print('a and b are equal')"
   ]
  },
  {
   "cell_type": "code",
   "execution_count": 1,
   "id": "cb8294e0",
   "metadata": {},
   "outputs": [
    {
     "name": "stdout",
     "output_type": "stream",
     "text": [
      "300 Greater than 200\n"
     ]
    }
   ],
   "source": [
    "a =300\n",
    "if a <100:\n",
    "    print (a,'Less than 100')\n",
    "elif (100<= a <=200):\n",
    "    print (a,'is between 100 and 200')\n",
    "else:\n",
    "    print (a,'Greater than 200')"
   ]
  },
  {
   "cell_type": "code",
   "execution_count": 2,
   "id": "d2f9222e",
   "metadata": {},
   "outputs": [
    {
     "name": "stdout",
     "output_type": "stream",
     "text": [
      "150 is between 100 and 200\n"
     ]
    }
   ],
   "source": [
    "a =150\n",
    "if a <100:\n",
    "    print (a,'Less than 100')\n",
    "elif (100<= a <=200):\n",
    "    print (a,'is between 100 and 200')\n",
    "else:\n",
    "    print (a,'Greater than 200')"
   ]
  },
  {
   "cell_type": "code",
   "execution_count": 16,
   "id": "390d1245",
   "metadata": {},
   "outputs": [
    {
     "name": "stdout",
     "output_type": "stream",
     "text": [
      "40 is less then 100\n",
      "40 is between 20 & 50\n"
     ]
    }
   ],
   "source": [
    "a=40\n",
    "if a <100:\n",
    "    print(a,'is less then 100')\n",
    "    if (50<= a<=100): \n",
    "        print(a,'is between 50 & 100')\n",
    "    elif(20<= a <= 50):  \n",
    "        print(a,'is between 20 & 50')\n",
    "    else:\n",
    "        print(a,'is greater then 100')\n",
    "        \n",
    "elif(20 <=a <=200):  \n",
    "    print(a,'is between 50 & 200')\n",
    "else:\n",
    "    print(a,'is greater then 200')"
   ]
  },
  {
   "cell_type": "code",
   "execution_count": 17,
   "id": "89a9bbe2",
   "metadata": {},
   "outputs": [
    {
     "name": "stdout",
     "output_type": "stream",
     "text": [
      "220 is greater then 200\n"
     ]
    }
   ],
   "source": [
    "a=220\n",
    "if a <100:\n",
    "    print(a,'is less then 100')\n",
    "    if (50<= a<=100): \n",
    "        print(a,'is between 50 & 100')\n",
    "    elif(20<= a <= 50):  \n",
    "        print(a,'is between 20 & 50')\n",
    "    else:\n",
    "        print(a,'is greater then 100')\n",
    "        \n",
    "elif(20 <=a <=200):  \n",
    "    print(a,'is between 50 & 200')\n",
    "else:\n",
    "    print(a,'is greater then 200')"
   ]
  },
  {
   "cell_type": "code",
   "execution_count": 18,
   "id": "bc56e72e",
   "metadata": {},
   "outputs": [
    {
     "name": "stdout",
     "output_type": "stream",
     "text": [
      "160 is between 50 & 200\n"
     ]
    }
   ],
   "source": [
    "a=160\n",
    "if a <100:\n",
    "    print(a,'is less then 100')\n",
    "    if (50<= a<=100): \n",
    "        print(a,'is between 50 & 100')\n",
    "    elif(20<= a <= 50):  \n",
    "        print(a,'is between 20 & 50')\n",
    "    else:\n",
    "        print(a,'is greater then 100')\n",
    "        \n",
    "elif(20 <=a <=200):  \n",
    "    print(a,'is between 50 & 200')\n",
    "else:\n",
    "    print(a,'is greater then 200')"
   ]
  },
  {
   "cell_type": "code",
   "execution_count": 21,
   "id": "3449bd7f",
   "metadata": {},
   "outputs": [
    {
     "name": "stdout",
     "output_type": "stream",
     "text": [
      "150 is less then  200\n"
     ]
    }
   ],
   "source": [
    "a=150\n",
    "b=200\n",
    "if a<b:\n",
    "    print(a,'is less then ',b)\n",
    "    if (10<= a<=100):\n",
    "        print(a,'is between 10 & 100')\n",
    "    elif a<10:\n",
    "            print(a,'is less then 10')\n",
    "       \n",
    "    \n",
    "else:\n",
    "    print(a,'is bigger number then ',b)\n",
    "    "
   ]
  },
  {
   "cell_type": "code",
   "execution_count": 28,
   "id": "2b066a33",
   "metadata": {},
   "outputs": [
    {
     "name": "stdout",
     "output_type": "stream",
     "text": [
      "enter the number=5\n",
      "thu\n"
     ]
    }
   ],
   "source": [
    "day = int (input ('enter the number='))\n",
    "\n",
    "match day :\n",
    "    case 1:\n",
    "        print('sun')\n",
    "    case 2:\n",
    "        print('mon')\n",
    "    case 3:\n",
    "        print('tue')\n",
    "    case 4:\n",
    "        print('wed')\n",
    "    case 5:\n",
    "        print('thu') \n",
    "    case 6:\n",
    "        print('fri') \n",
    "    case 7:\n",
    "        print('sat')\n",
    "    case _:\n",
    "        print('number is incorrect')"
   ]
  },
  {
   "cell_type": "code",
   "execution_count": 29,
   "id": "73676044",
   "metadata": {},
   "outputs": [
    {
     "name": "stdout",
     "output_type": "stream",
     "text": [
      "enter the number=8\n",
      "number is incorrect\n"
     ]
    }
   ],
   "source": [
    "day = int (input ('enter the number='))\n",
    "\n",
    "match day :\n",
    "    case 1:\n",
    "        print('sun')\n",
    "    case 2:\n",
    "        print('mon')\n",
    "    case 3:\n",
    "        print('tue')\n",
    "    case 4:\n",
    "        print('wed')\n",
    "    case 5:\n",
    "        print('thu') \n",
    "    case 6:\n",
    "        print('fri') \n",
    "    case 7:\n",
    "        print('sat')\n",
    "    case _:\n",
    "        print('number is incorrect')"
   ]
  },
  {
   "cell_type": "code",
   "execution_count": 30,
   "id": "5b6f234a",
   "metadata": {},
   "outputs": [
    {
     "name": "stdout",
     "output_type": "stream",
     "text": [
      "input 1st no=10\n",
      "input 2nd no=20\n",
      "1020\n"
     ]
    }
   ],
   "source": [
    "# FOR - Fixed number of times - Add 5 numbers \n",
    "# While - Execute based on condition - Add numbers till sum reaches 100\n",
    "\n",
    "no1= input('input 1st no=')\n",
    "no2= input('input 2nd no=')\n",
    "total=no1+no2\n",
    "print(total)\n"
   ]
  },
  {
   "cell_type": "code",
   "execution_count": 31,
   "id": "f6542a1e",
   "metadata": {},
   "outputs": [
    {
     "name": "stdout",
     "output_type": "stream",
     "text": [
      "input 1st no=10\n",
      "input 2nd no=20\n",
      "30\n"
     ]
    }
   ],
   "source": [
    "no1=int(input('input 1st no='))\n",
    "no2= int (input('input 2nd no='))\n",
    "total=no1+no2\n",
    "print(total)"
   ]
  },
  {
   "cell_type": "code",
   "execution_count": 35,
   "id": "98701a89",
   "metadata": {},
   "outputs": [
    {
     "name": "stdout",
     "output_type": "stream",
     "text": [
      "0\n",
      "1\n",
      "2\n",
      "3\n",
      "4\n"
     ]
    }
   ],
   "source": [
    "total = 0\n",
    "for i in range (5):\n",
    "    print(i)"
   ]
  },
  {
   "cell_type": "code",
   "execution_count": 42,
   "id": "0daef03b",
   "metadata": {},
   "outputs": [
    {
     "name": "stdout",
     "output_type": "stream",
     "text": [
      "Enter thr number =1\n",
      "Enter thr number =2\n",
      "Enter thr number =3\n",
      "Enter thr number =4\n",
      "Enter thr number =5\n",
      "Sum of 5 numbers =  15\n"
     ]
    }
   ],
   "source": [
    "total = 0\n",
    "for i in range  (5):\n",
    "    no = int (input('Enter thr number ='))\n",
    "    total = total+no\n",
    "print('Sum of 5 numbers = ',total)"
   ]
  },
  {
   "cell_type": "code",
   "execution_count": 43,
   "id": "6482075b",
   "metadata": {},
   "outputs": [
    {
     "name": "stdout",
     "output_type": "stream",
     "text": [
      "Enter thr number =123\n",
      "Enter thr number =2345\n",
      "Enter thr number =2345\n",
      "Enter thr number =1234\n",
      "Enter thr number =4563\n",
      "Sum of 5 numbers =  10610\n"
     ]
    }
   ],
   "source": [
    "total = 0\n",
    "for i in range  (5):\n",
    "    no = int (input('Enter thr number ='))\n",
    "    total = total+no\n",
    "print('Sum of 5 numbers = ',total)"
   ]
  },
  {
   "cell_type": "code",
   "execution_count": 45,
   "id": "b4efbcf9",
   "metadata": {},
   "outputs": [
    {
     "name": "stdout",
     "output_type": "stream",
     "text": [
      "Enter thr number =50\n",
      "Enter thr number =20\n",
      "Enter thr number =30\n",
      "Sum of numbers =  100\n"
     ]
    }
   ],
   "source": [
    "total = 0\n",
    "while total<100:                     # while loop\n",
    "    no = int (input('Enter thr number ='))\n",
    "    total = total+no\n",
    "print('Sum of numbers = ',total)"
   ]
  },
  {
   "cell_type": "code",
   "execution_count": 46,
   "id": "5ecf99f9",
   "metadata": {},
   "outputs": [
    {
     "name": "stdout",
     "output_type": "stream",
     "text": [
      "Enter thr number =10\n",
      "Enter thr number =20\n",
      "Enter thr number =30\n",
      "Enter thr number =10\n",
      "Enter thr number =5\n",
      "Enter thr number =20\n",
      "Enter thr number =50\n",
      "Sum of numbers =  145\n"
     ]
    }
   ],
   "source": [
    "total = 0\n",
    "while total<100:                     # while loop\n",
    "    no = int (input('Enter thr number ='))\n",
    "    total = total+no\n",
    "print('Sum of numbers = ',total)"
   ]
  },
  {
   "cell_type": "code",
   "execution_count": 1,
   "id": "3da71611",
   "metadata": {},
   "outputs": [
    {
     "name": "stdout",
     "output_type": "stream",
     "text": [
      "The number is  1\n",
      "The number is  2\n",
      "The number is  3\n",
      "The number is  4\n",
      "Program end\n"
     ]
    }
   ],
   "source": [
    "a =1\n",
    "while a <5:\n",
    "    print ( 'The number is ',a)\n",
    "    a+=1\n",
    "print ('Program end')\n"
   ]
  },
  {
   "cell_type": "code",
   "execution_count": 3,
   "id": "c4aada76",
   "metadata": {},
   "outputs": [
    {
     "name": "stdout",
     "output_type": "stream",
     "text": [
      "loop start\n",
      "2\n",
      "3\n",
      "4\n",
      "5\n",
      "6\n",
      "7\n",
      "8\n",
      "9\n",
      "loop end\n"
     ]
    }
   ],
   "source": [
    "x=2\n",
    "print('loop start')\n",
    "while x<10:\n",
    "    print(x)\n",
    "    x+=1\n",
    "print('loop end')"
   ]
  },
  {
   "cell_type": "code",
   "execution_count": 11,
   "id": "1f3d5e60",
   "metadata": {},
   "outputs": [
    {
     "name": "stdout",
     "output_type": "stream",
     "text": [
      "0\n",
      "1\n",
      "2\n",
      "3\n",
      "good day\n"
     ]
    }
   ],
   "source": [
    "a = [ 10,20,30,40]\n",
    "for i in range (len(a)):\n",
    "    print(i)\n",
    "print('good day')    "
   ]
  },
  {
   "cell_type": "code",
   "execution_count": 12,
   "id": "08f9d4af",
   "metadata": {},
   "outputs": [
    {
     "name": "stdout",
     "output_type": "stream",
     "text": [
      "10\n",
      "20\n",
      "30\n",
      "40\n",
      "good day\n"
     ]
    }
   ],
   "source": [
    "a = [ 10,20,30,40]\n",
    "for i in a:\n",
    "    print(i)\n",
    "print('good day')    "
   ]
  },
  {
   "cell_type": "code",
   "execution_count": 16,
   "id": "e500fa82",
   "metadata": {},
   "outputs": [
    {
     "name": "stdout",
     "output_type": "stream",
     "text": [
      "java\n"
     ]
    }
   ],
   "source": [
    "a = 0\n",
    "subj = ['python','java','oracle','c++']\n",
    "for i in subj:\n",
    "    if a==1:\n",
    "        print(i)\n",
    "    a=a+1\n",
    "    "
   ]
  },
  {
   "cell_type": "code",
   "execution_count": 26,
   "id": "3de3f725",
   "metadata": {},
   "outputs": [
    {
     "name": "stdout",
     "output_type": "stream",
     "text": [
      "python\n",
      "java\n",
      "oracle\n",
      "c++\n"
     ]
    }
   ],
   "source": [
    "a = 0\n",
    "subj = ['python','java','oracle','c++']\n",
    "for i in subj:\n",
    "    if a==1:\n",
    "        #print(i)\n",
    "        a=a+1\n",
    "    print(i)"
   ]
  },
  {
   "cell_type": "code",
   "execution_count": 28,
   "id": "3efe618c",
   "metadata": {},
   "outputs": [
    {
     "name": "stdout",
     "output_type": "stream",
     "text": [
      "0\n",
      "1\n",
      "2\n",
      "3\n",
      "4\n",
      "5\n",
      "6\n",
      "7\n",
      "8\n",
      "9\n",
      "Good Day\n"
     ]
    }
   ],
   "source": [
    "for i in range (10):\n",
    "    print (str(i)*i)\n",
    "    \n",
    "print ('Good Day')\n",
    "\n"
   ]
  },
  {
   "cell_type": "code",
   "execution_count": 29,
   "id": "65f6aae0",
   "metadata": {},
   "outputs": [
    {
     "name": "stdout",
     "output_type": "stream",
     "text": [
      "3\n"
     ]
    }
   ],
   "source": [
    "i=3\n",
    "print(str(i))"
   ]
  },
  {
   "cell_type": "code",
   "execution_count": 30,
   "id": "ee49c9be",
   "metadata": {},
   "outputs": [
    {
     "name": "stdout",
     "output_type": "stream",
     "text": [
      "333\n"
     ]
    }
   ],
   "source": [
    "i=3\n",
    "print(str(i)*i)   # it prints i value 3 times"
   ]
  },
  {
   "cell_type": "code",
   "execution_count": 31,
   "id": "767067ea",
   "metadata": {},
   "outputs": [
    {
     "name": "stdout",
     "output_type": "stream",
     "text": [
      "9\n"
     ]
    }
   ],
   "source": [
    "i=3\n",
    "print((i)*i)   # it take i as integer & did multipication"
   ]
  },
  {
   "cell_type": "code",
   "execution_count": 32,
   "id": "afba2470",
   "metadata": {},
   "outputs": [
    {
     "name": "stdout",
     "output_type": "stream",
     "text": [
      "\n",
      "1\n",
      "22\n",
      "333\n",
      "4444\n",
      "55555\n",
      "666666\n",
      "7777777\n",
      "88888888\n",
      "999999999\n"
     ]
    }
   ],
   "source": [
    "for i in range(10):\n",
    "    print(str(i)*i)"
   ]
  },
  {
   "cell_type": "code",
   "execution_count": 39,
   "id": "ef5fd6af",
   "metadata": {},
   "outputs": [
    {
     "name": "stdout",
     "output_type": "stream",
     "text": [
      "\n",
      "*\n",
      "**\n",
      "***\n",
      "****\n",
      "*****\n",
      "******\n",
      "*******\n",
      "********\n",
      "*********\n"
     ]
    }
   ],
   "source": [
    "for i in range(10):\n",
    "    print(str('*')*i)"
   ]
  },
  {
   "cell_type": "code",
   "execution_count": 40,
   "id": "dadc2e65",
   "metadata": {},
   "outputs": [
    {
     "name": "stdout",
     "output_type": "stream",
     "text": [
      "pencil\n",
      "   school\n",
      "   college\n",
      "pen\n",
      "   school\n",
      "   college\n",
      "book\n",
      "   school\n",
      "   college\n",
      "bag\n",
      "   school\n",
      "   college\n"
     ]
    }
   ],
   "source": [
    "A = ['pencil','pen','book','bag']\n",
    "B = ['school','college']\n",
    "for i in A:\n",
    "    print(i)\n",
    "    for j in B:\n",
    "        print('  ',j)\n",
    "    "
   ]
  },
  {
   "cell_type": "code",
   "execution_count": 41,
   "id": "e88a1032",
   "metadata": {},
   "outputs": [
    {
     "name": "stdout",
     "output_type": "stream",
     "text": [
      "pencil\n",
      " school\n",
      " college\n",
      "pen\n",
      " school\n",
      " college\n",
      "book\n",
      " school\n",
      " college\n",
      "bag\n",
      " school\n",
      " college\n"
     ]
    }
   ],
   "source": [
    "A = ['pencil','pen','book','bag']\n",
    "B = ['school','college']\n",
    "for i in A:\n",
    "    print(i)\n",
    "    for j in B:\n",
    "        print('',j)"
   ]
  },
  {
   "cell_type": "code",
   "execution_count": 45,
   "id": "9d69b812",
   "metadata": {},
   "outputs": [
    {
     "name": "stdout",
     "output_type": "stream",
     "text": [
      "pencil\n",
      "    school\n",
      "pen\n",
      "    school\n",
      "book\n",
      "    school\n",
      "bag\n",
      "    school\n"
     ]
    }
   ],
   "source": [
    "A = ['pencil','pen','book','bag']\n",
    "B = ['school','college']\n",
    "for i in A:\n",
    "    print(i)\n",
    "    for j in B:\n",
    "        print('   ',j)\n",
    "        break"
   ]
  },
  {
   "cell_type": "code",
   "execution_count": 46,
   "id": "3c9c0be1",
   "metadata": {},
   "outputs": [
    {
     "name": "stdout",
     "output_type": "stream",
     "text": [
      "pencil\n",
      "    school\n",
      "    college\n",
      "pen\n",
      "    school\n",
      "    college\n",
      "book\n",
      "    school\n",
      "    college\n",
      "bag\n",
      "    school\n",
      "    college\n"
     ]
    }
   ],
   "source": [
    "A = ['pencil','pen','book','bag']\n",
    "B = ['school','college']\n",
    "for i in A:\n",
    "    print(i)\n",
    "    for j in B:\n",
    "        print('   ',j)\n",
    "        continue"
   ]
  },
  {
   "cell_type": "code",
   "execution_count": 42,
   "id": "7018b707",
   "metadata": {},
   "outputs": [
    {
     "name": "stdout",
     "output_type": "stream",
     "text": [
      "Python\n",
      "C++\n",
      "Oracle\n"
     ]
    }
   ],
   "source": [
    "subj = ['Python','C++','Oracle','exit','Angular','Informatica','Java']\n",
    "\n",
    "for i in subj:\n",
    "    if i == 'exit':\n",
    "        break\n",
    "    print(i)\n"
   ]
  },
  {
   "cell_type": "code",
   "execution_count": 44,
   "id": "f6fa93b7",
   "metadata": {},
   "outputs": [
    {
     "name": "stdout",
     "output_type": "stream",
     "text": [
      "Python\n",
      "C++\n",
      "Oracle\n",
      "exit\n",
      "Angular\n",
      "Informatica\n"
     ]
    }
   ],
   "source": [
    "subj = ['Python','C++','Oracle','exit','Angular','Informatica','Java']\n",
    "\n",
    "for i in subj:\n",
    "    if i == 'Java':\n",
    "        break\n",
    "    print(i)\n"
   ]
  },
  {
   "cell_type": "code",
   "execution_count": 48,
   "id": "95ae8a20",
   "metadata": {},
   "outputs": [
    {
     "name": "stdout",
     "output_type": "stream",
     "text": [
      "Python\n",
      "C++\n",
      "Oracle\n",
      "Angular\n",
      "Informatica\n",
      "Java\n"
     ]
    }
   ],
   "source": [
    "subj = ['Python','C++','Oracle','exit','Angular','Informatica','Java']\n",
    "\n",
    "for i in subj:\n",
    "    if i == 'exit':\n",
    "        continue\n",
    "    print(i)"
   ]
  },
  {
   "cell_type": "code",
   "execution_count": 47,
   "id": "725aa687",
   "metadata": {},
   "outputs": [
    {
     "name": "stdout",
     "output_type": "stream",
     "text": [
      "Enter the value10\n",
      "Enter the value20\n",
      "Data type of no1  <class 'str'>\n",
      "30\n"
     ]
    }
   ],
   "source": [
    "no1 = input ('Enter the value')\n",
    "no2 = input ('Enter the value')\n",
    "print ('Data type of no1 ',type (no1))\n",
    "no3 = int(no1)+ int (no2)\n",
    "print (no3)\n"
   ]
  },
  {
   "cell_type": "code",
   "execution_count": null,
   "id": "7f4656f0",
   "metadata": {},
   "outputs": [],
   "source": []
  }
 ],
 "metadata": {
  "kernelspec": {
   "display_name": "Python 3 (ipykernel)",
   "language": "python",
   "name": "python3"
  },
  "language_info": {
   "codemirror_mode": {
    "name": "ipython",
    "version": 3
   },
   "file_extension": ".py",
   "mimetype": "text/x-python",
   "name": "python",
   "nbconvert_exporter": "python",
   "pygments_lexer": "ipython3",
   "version": "3.11.3"
  }
 },
 "nbformat": 4,
 "nbformat_minor": 5
}
